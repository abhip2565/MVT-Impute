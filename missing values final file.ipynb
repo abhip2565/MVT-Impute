{
 "cells": [
  {
   "cell_type": "markdown",
   "metadata": {},
   "source": [
    "# Final missing value time series"
   ]
  },
  {
   "cell_type": "markdown",
   "metadata": {},
   "source": [
    "## Interpolation methods"
   ]
  },
  {
   "cell_type": "code",
   "execution_count": 1,
   "metadata": {},
   "outputs": [],
   "source": [
    "import pandas as pd\n",
    "import numpy as np\n",
    "import random"
   ]
  },
  {
   "cell_type": "code",
   "execution_count": 2,
   "metadata": {},
   "outputs": [],
   "source": [
    "def fact(n): \n",
    "    f = 1; \n",
    "    for i in range(2, n + 1): \n",
    "        f *= i; \n",
    "    return f; "
   ]
  },
  {
   "cell_type": "code",
   "execution_count": 3,
   "metadata": {},
   "outputs": [],
   "source": [
    "def fact(n): \n",
    "    f = 1; \n",
    "    for i in range(2, n + 1): \n",
    "        f *= i; \n",
    "    return f; "
   ]
  },
  {
   "cell_type": "code",
   "execution_count": 4,
   "metadata": {},
   "outputs": [],
   "source": [
    "def u_cal(u, n): \n",
    "  \n",
    "    temp = u; \n",
    "    for i in range(1, n): \n",
    "        temp = temp * (u - i); \n",
    "    return temp; "
   ]
  },
  {
   "cell_type": "code",
   "execution_count": 17,
   "metadata": {},
   "outputs": [],
   "source": [
    "df1=pd.read_excel(r'cho_data.xlsx')\n",
    "df1=df1.drop(\"Unnamed: 0\", axis=1)"
   ]
  },
  {
   "cell_type": "code",
   "execution_count": 18,
   "metadata": {},
   "outputs": [
    {
     "data": {
      "text/html": [
       "<div>\n",
       "<style scoped>\n",
       "    .dataframe tbody tr th:only-of-type {\n",
       "        vertical-align: middle;\n",
       "    }\n",
       "\n",
       "    .dataframe tbody tr th {\n",
       "        vertical-align: top;\n",
       "    }\n",
       "\n",
       "    .dataframe thead th {\n",
       "        text-align: right;\n",
       "    }\n",
       "</style>\n",
       "<table border=\"1\" class=\"dataframe\">\n",
       "  <thead>\n",
       "    <tr style=\"text-align: right;\">\n",
       "      <th></th>\n",
       "      <th>alpha0</th>\n",
       "      <th>alpha7</th>\n",
       "      <th>alpha14</th>\n",
       "      <th>alpha21</th>\n",
       "      <th>alpha28</th>\n",
       "      <th>alpha35</th>\n",
       "      <th>alpha42</th>\n",
       "      <th>alpha49</th>\n",
       "      <th>alpha56</th>\n",
       "      <th>alpha63</th>\n",
       "      <th>alpha70</th>\n",
       "      <th>alpha77</th>\n",
       "      <th>alpha84</th>\n",
       "      <th>alpha91</th>\n",
       "      <th>alpha98</th>\n",
       "      <th>alpha105</th>\n",
       "      <th>alpha112</th>\n",
       "      <th>alpha119</th>\n",
       "    </tr>\n",
       "  </thead>\n",
       "  <tbody>\n",
       "    <tr>\n",
       "      <td>0</td>\n",
       "      <td>-0.11</td>\n",
       "      <td>0.10</td>\n",
       "      <td>0.01</td>\n",
       "      <td>0.06</td>\n",
       "      <td>0.04</td>\n",
       "      <td>-0.26</td>\n",
       "      <td>0.04</td>\n",
       "      <td>0.19</td>\n",
       "      <td>-0.22</td>\n",
       "      <td>-0.20</td>\n",
       "      <td>0.12</td>\n",
       "      <td>0.21</td>\n",
       "      <td>-0.26</td>\n",
       "      <td>-0.30</td>\n",
       "      <td>0.22</td>\n",
       "      <td>0.58</td>\n",
       "      <td>-0.36</td>\n",
       "      <td>0.13</td>\n",
       "    </tr>\n",
       "    <tr>\n",
       "      <td>1</td>\n",
       "      <td>-0.14</td>\n",
       "      <td>-0.71</td>\n",
       "      <td>0.10</td>\n",
       "      <td>-0.32</td>\n",
       "      <td>-0.40</td>\n",
       "      <td>-0.58</td>\n",
       "      <td>0.11</td>\n",
       "      <td>0.21</td>\n",
       "      <td>0.09</td>\n",
       "      <td>0.57</td>\n",
       "      <td>-0.14</td>\n",
       "      <td>0.29</td>\n",
       "      <td>0.01</td>\n",
       "      <td>0.04</td>\n",
       "      <td>0.05</td>\n",
       "      <td>0.55</td>\n",
       "      <td>-0.08</td>\n",
       "      <td>0.33</td>\n",
       "    </tr>\n",
       "    <tr>\n",
       "      <td>2</td>\n",
       "      <td>-0.02</td>\n",
       "      <td>-0.48</td>\n",
       "      <td>-0.11</td>\n",
       "      <td>0.12</td>\n",
       "      <td>-0.03</td>\n",
       "      <td>0.19</td>\n",
       "      <td>0.13</td>\n",
       "      <td>0.76</td>\n",
       "      <td>0.07</td>\n",
       "      <td>0.04</td>\n",
       "      <td>-0.06</td>\n",
       "      <td>0.30</td>\n",
       "      <td>-0.47</td>\n",
       "      <td>-0.16</td>\n",
       "      <td>-0.11</td>\n",
       "      <td>0.23</td>\n",
       "      <td>-0.45</td>\n",
       "      <td>0.02</td>\n",
       "    </tr>\n",
       "    <tr>\n",
       "      <td>3</td>\n",
       "      <td>-0.05</td>\n",
       "      <td>-0.53</td>\n",
       "      <td>-0.47</td>\n",
       "      <td>-0.06</td>\n",
       "      <td>0.11</td>\n",
       "      <td>-0.07</td>\n",
       "      <td>0.25</td>\n",
       "      <td>0.46</td>\n",
       "      <td>0.12</td>\n",
       "      <td>0.49</td>\n",
       "      <td>-0.42</td>\n",
       "      <td>0.28</td>\n",
       "      <td>-0.30</td>\n",
       "      <td>-0.18</td>\n",
       "      <td>-0.30</td>\n",
       "      <td>0.68</td>\n",
       "      <td>-0.24</td>\n",
       "      <td>0.22</td>\n",
       "    </tr>\n",
       "    <tr>\n",
       "      <td>4</td>\n",
       "      <td>-0.60</td>\n",
       "      <td>-0.45</td>\n",
       "      <td>-0.13</td>\n",
       "      <td>0.35</td>\n",
       "      <td>-0.01</td>\n",
       "      <td>0.49</td>\n",
       "      <td>0.18</td>\n",
       "      <td>0.43</td>\n",
       "      <td>-0.23</td>\n",
       "      <td>-0.30</td>\n",
       "      <td>-0.24</td>\n",
       "      <td>0.23</td>\n",
       "      <td>0.04</td>\n",
       "      <td>0.09</td>\n",
       "      <td>0.18</td>\n",
       "      <td>0.16</td>\n",
       "      <td>-0.01</td>\n",
       "      <td>-0.21</td>\n",
       "    </tr>\n",
       "  </tbody>\n",
       "</table>\n",
       "</div>"
      ],
      "text/plain": [
       "   alpha0  alpha7  alpha14  alpha21  alpha28  alpha35  alpha42  alpha49  \\\n",
       "0   -0.11    0.10     0.01     0.06     0.04    -0.26     0.04     0.19   \n",
       "1   -0.14   -0.71     0.10    -0.32    -0.40    -0.58     0.11     0.21   \n",
       "2   -0.02   -0.48    -0.11     0.12    -0.03     0.19     0.13     0.76   \n",
       "3   -0.05   -0.53    -0.47    -0.06     0.11    -0.07     0.25     0.46   \n",
       "4   -0.60   -0.45    -0.13     0.35    -0.01     0.49     0.18     0.43   \n",
       "\n",
       "   alpha56  alpha63  alpha70  alpha77  alpha84  alpha91  alpha98  alpha105  \\\n",
       "0    -0.22    -0.20     0.12     0.21    -0.26    -0.30     0.22      0.58   \n",
       "1     0.09     0.57    -0.14     0.29     0.01     0.04     0.05      0.55   \n",
       "2     0.07     0.04    -0.06     0.30    -0.47    -0.16    -0.11      0.23   \n",
       "3     0.12     0.49    -0.42     0.28    -0.30    -0.18    -0.30      0.68   \n",
       "4    -0.23    -0.30    -0.24     0.23     0.04     0.09     0.18      0.16   \n",
       "\n",
       "   alpha112  alpha119  \n",
       "0     -0.36      0.13  \n",
       "1     -0.08      0.33  \n",
       "2     -0.45      0.02  \n",
       "3     -0.24      0.22  \n",
       "4     -0.01     -0.21  "
      ]
     },
     "execution_count": 18,
     "metadata": {},
     "output_type": "execute_result"
    }
   ],
   "source": [
    "df1.head()"
   ]
  },
  {
   "cell_type": "code",
   "execution_count": 17,
   "metadata": {},
   "outputs": [],
   "source": [
    "a=np.array(df6186)"
   ]
  },
  {
   "cell_type": "code",
   "execution_count": 5,
   "metadata": {},
   "outputs": [],
   "source": [
    "def matrix1(l,a,k): \n",
    "    \n",
    "    x=[]\n",
    "    for i in range(len(l)):\n",
    "        if(l[i]==k):\n",
    "            n1=i\n",
    "    if(n1%2==0):\n",
    "        index=1\n",
    "        diff=2\n",
    "    else:\n",
    "        index=0\n",
    "        diff=2\n",
    "    ind=index\n",
    "   \n",
    "    while 1:\n",
    "        if(index>len(l)-1):\n",
    "            break\n",
    "        x.append(l[index])\n",
    "        index=index+diff\n",
    "    n=len(x)\n",
    "   # print(x)\n",
    "    mat=np.zeros((a.shape[0],n))\n",
    "    for i in range(int(a.shape[0])):\n",
    "        mat[i]=a[i][ind::diff]\n",
    "    \n",
    "    return mat,n,x"
   ]
  },
  {
   "cell_type": "code",
   "execution_count": 6,
   "metadata": {},
   "outputs": [],
   "source": [
    "def matrix2(l,a,k1,k2):    \n",
    "    \n",
    "    for i in range(len(l)):\n",
    "        if(l[i]==k1):\n",
    "            n1=i\n",
    "        if(l[i]==k2):\n",
    "            n2=i\n",
    "    if((n1%2==1 and n2%2==0) or n2%2==1 and n1%2==0 ):\n",
    "        if(n1%2==1):\n",
    "            if((n1-1)%4==0):\n",
    "                index=3\n",
    "                diff=4\n",
    "            else:\n",
    "                index=1\n",
    "                diff=4\n",
    "        if(n2%2==1):\n",
    "            if((n2-1)%4==0):\n",
    "                index=3\n",
    "                diff=4\n",
    "            else:\n",
    "                index=1\n",
    "                diff=4\n",
    "    if(n1%2==0 and n2%2==0):\n",
    "        index=1\n",
    "        diff=2\n",
    "    if(n1%2==1 and n2%2==1):\n",
    "        index=0\n",
    "        diff= 2\n",
    "    x=[]\n",
    "    ind=index\n",
    "    while 1:\n",
    "\n",
    "        if(index>len(l)-1):\n",
    "            break\n",
    "        x.append(l[index])\n",
    "        index=index+diff\n",
    "    n=len(x)\n",
    "    mat=np.zeros((a.shape[0],n))\n",
    "    for i in range(int(a.shape[0])):\n",
    "        mat[i]=a[i][ind::diff]\n",
    "    return mat,n,x"
   ]
  },
  {
   "cell_type": "code",
   "execution_count": 7,
   "metadata": {},
   "outputs": [],
   "source": [
    "def matrix3(l,a,k1,k2,k3):\n",
    "   \n",
    "   \n",
    "    for i in range(len(l)):\n",
    "        if(l[i]==k1):\n",
    "            n1=i\n",
    "        if(l[i]==k2):\n",
    "            n2=i\n",
    "    if((n1%2==1 and n2%2==0) or n2%2==1 and n1%2==0 ):\n",
    "        if(n1%2==1):\n",
    "            if((n1-1)%4==0):\n",
    "                index=3\n",
    "                diff=4\n",
    "            else:\n",
    "                index=1\n",
    "                diff=4\n",
    "        if(n2%2==1):\n",
    "            if((n2-1)%4==0):\n",
    "                index=3\n",
    "                diff=4\n",
    "            else:\n",
    "                index=1\n",
    "                diff=4\n",
    "    if(n1%2==0 and n2%2==0):\n",
    "        index=1\n",
    "        diff=2\n",
    "    if(n1%2==1 and n2%2==1):\n",
    "        index=0\n",
    "        diff= 2\n",
    "    x=[]\n",
    "    ind=index\n",
    "    while 1:\n",
    "\n",
    "        if(index>len(l)-1):\n",
    "            break\n",
    "        x.append(l[index])\n",
    "        index=index+diff\n",
    "    j=0\n",
    "    for i  in range(len(x)):\n",
    "        if(x[i]==k3):\n",
    "            j=1\n",
    "            if(i%2==0):\n",
    "                index=1\n",
    "                diff=2\n",
    "            else:\n",
    "                index=0\n",
    "                diff=2\n",
    "    x1=[] \n",
    "\n",
    "    if j==1:             \n",
    "\n",
    "        l1=x\n",
    "\n",
    "        while 1:\n",
    "\n",
    "            if(index>len(l1)-1):\n",
    "                break\n",
    "            x1.append(l1[index])\n",
    "            index=index+diff  \n",
    "        for i in range(len(l)):\n",
    "            if(l[i]==x1[0]):\n",
    "                index=i\n",
    "            if(l[i]==x1[1]):\n",
    "                diff=i-index\n",
    "        ind=index\n",
    "\n",
    "    else:\n",
    "        x1=x\n",
    "\n",
    "    x=x1\n",
    "    n=len(x)\n",
    "    \n",
    "\n",
    "    mat=np.zeros((a.shape[0],n))\n",
    "    for i in range(int(a.shape[0])):\n",
    "        mat[i]=a[i][ind::diff]\n",
    "    return mat,n,x"
   ]
  },
  {
   "cell_type": "code",
   "execution_count": 8,
   "metadata": {},
   "outputs": [],
   "source": [
    "#newton backward\n",
    "def newtonbackward(mat,n,x,miss):\n",
    "    l=[]\n",
    "    for k in range(0,a.shape[0]):\n",
    "        y_mat=np.zeros((n,n),dtype=float)\n",
    "        for i in range(0,n):\n",
    "             y_mat[i][0]=mat[k][i]\n",
    "\n",
    "        for i in range(1, n): \n",
    "            for j in range(n - i,i+1): \n",
    "                y_mat[j][i] = y_mat[j][i - 1] - y_mat[j-1][i - 1]; \n",
    "\n",
    "        sum = y_mat[n-1][0]; \n",
    "        u = (miss- x[n-1]) / (x[1] - x[0]); \n",
    "        for i in range(1,n): \n",
    "            sum = sum + (u_cal(u, i) * y_mat[n-1][i]) / fact(i); \n",
    "        l.append(round(sum,6))\n",
    "    return l"
   ]
  },
  {
   "cell_type": "code",
   "execution_count": 9,
   "metadata": {},
   "outputs": [],
   "source": [
    "#newton frward\n",
    "def newtonforward(mat,n,x,miss):\n",
    "    l=[]\n",
    "    for k in range(0,a.shape[0]):\n",
    "        y_mat=np.zeros((n,n),dtype=float)\n",
    "        for i in range(0,n):\n",
    "             y_mat[i][0]=mat[k][i]\n",
    "\n",
    "        for i in range(1, n): \n",
    "            for j in range(n - i): \n",
    "                y_mat[j][i] = y_mat[j + 1][i - 1] - y_mat[j][i - 1]; \n",
    "\n",
    "        sum = y_mat[0][0]; \n",
    "        u = (miss- x[0]) / (x[1] - x[0]); \n",
    "        for i in range(1,n): \n",
    "            sum = sum + (u_cal(u, i) * y_mat[0][i]) / fact(i); \n",
    "        l.append(round(sum,6))\n",
    "    return l"
   ]
  },
  {
   "cell_type": "code",
   "execution_count": 10,
   "metadata": {},
   "outputs": [],
   "source": [
    "#lagrange\n",
    "def lagrange(mat,n,x,xp):\n",
    "    l=[]\n",
    "    for k in range (a.shape[0]):\n",
    "        yp=0\n",
    "        for i in range(n):\n",
    "\n",
    "            p = 1\n",
    "\n",
    "            for j in range(n):\n",
    "                if i != j:\n",
    "                    p = p * (xp - x[j])/(x[i] - x[j])\n",
    "\n",
    "            yp = yp+p*mat[k][i]  \n",
    "\n",
    "        l.append(yp) \n",
    "    return l"
   ]
  },
  {
   "cell_type": "code",
   "execution_count": 11,
   "metadata": {},
   "outputs": [],
   "source": [
    "def nrmse2(miss,l,l1):    \n",
    "    rmsl=[]\n",
    "    for i in range(0,a.shape[0]):\n",
    "        rmsl.append((a[i,l1.index(miss)]-l[i])**2)\n",
    "    sumrmse=np.sum(rmsl)\n",
    "    sqrrmse=sumrmse**(1/2)\n",
    "    rmse=sqrrmse/(a.shape[0]**(1/2))\n",
    "    m=np.max(a[0:,l1.index(miss)])-np.min(a[0:,l1.index(miss)])\n",
    "   \n",
    "    nrmse=rmse/m\n",
    "    return nrmse"
   ]
  },
  {
   "cell_type": "code",
   "execution_count": 12,
   "metadata": {},
   "outputs": [],
   "source": [
    "l=[1,2,3,4,5,6,7,8,9,10,11,12,13,14,15,16,17,18,19,20,21,22,23]"
   ]
  },
  {
   "cell_type": "code",
   "execution_count": 110,
   "metadata": {},
   "outputs": [
    {
     "name": "stdout",
     "output_type": "stream",
     "text": [
      "10 45 60\n",
      "0.042629658340003665\n",
      "0.03772902399598654\n",
      "0.028591391537671523\n"
     ]
    }
   ],
   "source": [
    "l1=[]\n",
    "l2=[]\n",
    "cols=3\n",
    "l=[1,2,3,4,5,6,7,8,9,10,11,12,13,14,15,16,17,18,19,20,21,22,23]\n",
    "pivot1=int(len(l)/3)\n",
    "pivot2=2*pivot1\n",
    "if(cols==1):\n",
    "    k=90\n",
    "    print(\"The missing value is  \",k)\n",
    "    mat,n,x=matrix1(l,a,k)\n",
    "    if(l.index(k)<pivot1):\n",
    "        l1=newtonforward(mat,n,x,k)\n",
    "        print(\"nf\")\n",
    "        nrmse=nrmse2(k,l1,l)\n",
    "        print(nrmse)\n",
    "    elif(l.index(k)<pivot2):\n",
    "        l1=lagrange(mat,n,x,k)\n",
    "        print(\"lag\")\n",
    "        nrmse=nrmse2(k,l1,l)\n",
    "        print(nrmse)\n",
    "    else:\n",
    "        l1=newtonbackward(mat,n,x,k)\n",
    "        print(\"nbf\")\n",
    "        nrmse=nrmse2(k,l1,l)\n",
    "        print(nrmse)\n",
    "if(cols==2):\n",
    "    k1,k2=20,45\n",
    "    print(k1,k2)\n",
    "\n",
    "    mat,n,x=matrix2(l,a,k1,k2)\n",
    "    if(l.index(k1)<pivot1):\n",
    "        l1=newtonforward(mat,n,x,k1)\n",
    "        nrmse=nrmse2(k1,l1,l)\n",
    "        \n",
    "        print(nrmse)\n",
    "        \n",
    "    elif(l.index(k1)<pivot2):\n",
    "        l1=lagrange(mat,n,x,k1)\n",
    "        nrmse=nrmse2(k1,l1,l)\n",
    "        print(nrmse)\n",
    "    else:\n",
    "        l1=newtonbackward(mat,n,x,k1)\n",
    "        nrmse=nrmse2(k1,l1,l)\n",
    "        print(nrmse)\n",
    "    if(l.index(k2)<pivot1):\n",
    "        l2=newtonforward(mat,n,x,k2)\n",
    "        nrmse=nrmse2(k2,l2,l)\n",
    "        print(nrmse)\n",
    "\n",
    "    elif(l.index(k2)<pivot2):\n",
    "        l2=lagrange(mat,n,x,k2)\n",
    "        nrmse=nrmse2(k2,l2,l)\n",
    "        print(nrmse)\n",
    "       \n",
    "    else:\n",
    "        l2=newtonbackward(mat,n,x,k2)\n",
    "        nrmse=nrmse2(k2,l2,l)\n",
    "        print(nrmse)\n",
    "        \n",
    "if(cols==3):\n",
    "    k1,k2,k3=10,45,60\n",
    "    print(k1,k2,k3)\n",
    "\n",
    "    mat,n,x=matrix3(l,a,k1,k2,k3)\n",
    "    if(l.index(k1)<pivot1):\n",
    "        l1=newtonforward(mat,n,x,k1)\n",
    "        nrmse=nrmse2(k1,l1,l)\n",
    "        print(nrmse)\n",
    "       \n",
    "    elif(l.index(k1)<pivot2):\n",
    "        l1=newtonbackward(mat,n,x,k1)\n",
    "        nrmse=nrmse2(k1,l1,l)\n",
    "        print(nrmse)\n",
    "        \n",
    "    else:\n",
    "        l1=lagrange(mat,n,x,k1)\n",
    "        nrmse=nrmse2(k1,l1,l)\n",
    "        print(nrmse)\n",
    "    if(l.index(k2)<pivot1):\n",
    "        l2=newtonforward(mat,n,x,k2)\n",
    "        nrmse=nrmse2(k2,l2,l)\n",
    "        print(nrmse)\n",
    "       \n",
    "    elif(l.index(k2)<pivot2):\n",
    "        l2=newtonbackward(mat,n,x,k2)\n",
    "        nrmse=nrmse2(k2,l2,l)\n",
    "        print(nrmse)\n",
    "        \n",
    "    else:\n",
    "        l2=lagrange(mat,n,x,k2)\n",
    "        nrmse=nrmse2(k2,l2,l)\n",
    "        print(nrmse)\n",
    "    if(l.index(k3)<pivot1):\n",
    "        l3=newtonforward(mat,n,x,k3)\n",
    "        nrmse=nrmse2(k3,l3,l)\n",
    "        print(nrmse)\n",
    "       \n",
    "    elif(l.index(k3)<pivot2):\n",
    "        l3=newtonbackward(mat,n,x,k3)\n",
    "        nrmse=nrmse2(k3,l3,l)\n",
    "        print(nrmse)\n",
    "        \n",
    "    else:\n",
    "        l3=lagrange(mat,n,x,k3)\n",
    "        nrmse=nrmse2(k3,l3,l)\n",
    "        print(nrmse)\n",
    "        \n",
    "        \n"
   ]
  },
  {
   "cell_type": "markdown",
   "metadata": {},
   "source": [
    "### Classification accuracy"
   ]
  },
  {
   "cell_type": "code",
   "execution_count": null,
   "metadata": {},
   "outputs": [],
   "source": [
    "target=np.random.randint(high=2,low=0,size=len(df1))\n"
   ]
  },
  {
   "cell_type": "code",
   "execution_count": 13,
   "metadata": {},
   "outputs": [
    {
     "name": "stderr",
     "output_type": "stream",
     "text": [
      "C:\\Users\\ABHISHEK PAUL\\Anaconda3\\lib\\site-packages\\sklearn\\linear_model\\least_angle.py:30: DeprecationWarning: `np.float` is a deprecated alias for the builtin `float`. To silence this warning, use `float` by itself. Doing this will not modify any behavior and is safe. If you specifically wanted the numpy scalar type, use `np.float64` here.\n",
      "Deprecated in NumPy 1.20; for more details and guidance: https://numpy.org/devdocs/release/1.20.0-notes.html#deprecations\n",
      "  method='lar', copy_X=True, eps=np.finfo(np.float).eps,\n",
      "C:\\Users\\ABHISHEK PAUL\\Anaconda3\\lib\\site-packages\\sklearn\\linear_model\\least_angle.py:167: DeprecationWarning: `np.float` is a deprecated alias for the builtin `float`. To silence this warning, use `float` by itself. Doing this will not modify any behavior and is safe. If you specifically wanted the numpy scalar type, use `np.float64` here.\n",
      "Deprecated in NumPy 1.20; for more details and guidance: https://numpy.org/devdocs/release/1.20.0-notes.html#deprecations\n",
      "  method='lar', copy_X=True, eps=np.finfo(np.float).eps,\n",
      "C:\\Users\\ABHISHEK PAUL\\Anaconda3\\lib\\site-packages\\sklearn\\linear_model\\least_angle.py:284: DeprecationWarning: `np.float` is a deprecated alias for the builtin `float`. To silence this warning, use `float` by itself. Doing this will not modify any behavior and is safe. If you specifically wanted the numpy scalar type, use `np.float64` here.\n",
      "Deprecated in NumPy 1.20; for more details and guidance: https://numpy.org/devdocs/release/1.20.0-notes.html#deprecations\n",
      "  eps=np.finfo(np.float).eps, copy_Gram=True, verbose=0,\n",
      "C:\\Users\\ABHISHEK PAUL\\Anaconda3\\lib\\site-packages\\sklearn\\linear_model\\least_angle.py:862: DeprecationWarning: `np.float` is a deprecated alias for the builtin `float`. To silence this warning, use `float` by itself. Doing this will not modify any behavior and is safe. If you specifically wanted the numpy scalar type, use `np.float64` here.\n",
      "Deprecated in NumPy 1.20; for more details and guidance: https://numpy.org/devdocs/release/1.20.0-notes.html#deprecations\n",
      "  eps=np.finfo(np.float).eps, copy_X=True, fit_path=True,\n",
      "C:\\Users\\ABHISHEK PAUL\\Anaconda3\\lib\\site-packages\\sklearn\\linear_model\\least_angle.py:1101: DeprecationWarning: `np.float` is a deprecated alias for the builtin `float`. To silence this warning, use `float` by itself. Doing this will not modify any behavior and is safe. If you specifically wanted the numpy scalar type, use `np.float64` here.\n",
      "Deprecated in NumPy 1.20; for more details and guidance: https://numpy.org/devdocs/release/1.20.0-notes.html#deprecations\n",
      "  eps=np.finfo(np.float).eps, copy_X=True, fit_path=True,\n",
      "C:\\Users\\ABHISHEK PAUL\\Anaconda3\\lib\\site-packages\\sklearn\\linear_model\\least_angle.py:1127: DeprecationWarning: `np.float` is a deprecated alias for the builtin `float`. To silence this warning, use `float` by itself. Doing this will not modify any behavior and is safe. If you specifically wanted the numpy scalar type, use `np.float64` here.\n",
      "Deprecated in NumPy 1.20; for more details and guidance: https://numpy.org/devdocs/release/1.20.0-notes.html#deprecations\n",
      "  eps=np.finfo(np.float).eps, positive=False):\n",
      "C:\\Users\\ABHISHEK PAUL\\Anaconda3\\lib\\site-packages\\sklearn\\linear_model\\least_angle.py:1362: DeprecationWarning: `np.float` is a deprecated alias for the builtin `float`. To silence this warning, use `float` by itself. Doing this will not modify any behavior and is safe. If you specifically wanted the numpy scalar type, use `np.float64` here.\n",
      "Deprecated in NumPy 1.20; for more details and guidance: https://numpy.org/devdocs/release/1.20.0-notes.html#deprecations\n",
      "  max_n_alphas=1000, n_jobs=None, eps=np.finfo(np.float).eps,\n",
      "C:\\Users\\ABHISHEK PAUL\\Anaconda3\\lib\\site-packages\\sklearn\\linear_model\\least_angle.py:1602: DeprecationWarning: `np.float` is a deprecated alias for the builtin `float`. To silence this warning, use `float` by itself. Doing this will not modify any behavior and is safe. If you specifically wanted the numpy scalar type, use `np.float64` here.\n",
      "Deprecated in NumPy 1.20; for more details and guidance: https://numpy.org/devdocs/release/1.20.0-notes.html#deprecations\n",
      "  max_n_alphas=1000, n_jobs=None, eps=np.finfo(np.float).eps,\n",
      "C:\\Users\\ABHISHEK PAUL\\Anaconda3\\lib\\site-packages\\sklearn\\linear_model\\least_angle.py:1738: DeprecationWarning: `np.float` is a deprecated alias for the builtin `float`. To silence this warning, use `float` by itself. Doing this will not modify any behavior and is safe. If you specifically wanted the numpy scalar type, use `np.float64` here.\n",
      "Deprecated in NumPy 1.20; for more details and guidance: https://numpy.org/devdocs/release/1.20.0-notes.html#deprecations\n",
      "  eps=np.finfo(np.float).eps, copy_X=True, positive=False):\n",
      "C:\\Users\\ABHISHEK PAUL\\Anaconda3\\lib\\site-packages\\sklearn\\decomposition\\online_lda.py:29: DeprecationWarning: `np.float` is a deprecated alias for the builtin `float`. To silence this warning, use `float` by itself. Doing this will not modify any behavior and is safe. If you specifically wanted the numpy scalar type, use `np.float64` here.\n",
      "Deprecated in NumPy 1.20; for more details and guidance: https://numpy.org/devdocs/release/1.20.0-notes.html#deprecations\n",
      "  EPS = np.finfo(np.float).eps\n"
     ]
    }
   ],
   "source": [
    "from sklearn.tree import DecisionTreeClassifier\n",
    "from sklearn.svm import OneClassSVM"
   ]
  },
  {
   "cell_type": "code",
   "execution_count": 82,
   "metadata": {},
   "outputs": [
    {
     "name": "stderr",
     "output_type": "stream",
     "text": [
      "C:\\Users\\ABHISHEK PAUL\\Anaconda3\\lib\\site-packages\\sklearn\\feature_extraction\\image.py:167: DeprecationWarning: `np.int` is a deprecated alias for the builtin `int`. To silence this warning, use `int` by itself. Doing this will not modify any behavior and is safe. When replacing `np.int`, you may wish to use e.g. `np.int64` or `np.int32` to specify the precision. If you wish to review your current use, check the release note link for additional information.\n",
      "Deprecated in NumPy 1.20; for more details and guidance: https://numpy.org/devdocs/release/1.20.0-notes.html#deprecations\n",
      "  dtype=np.int):\n"
     ]
    }
   ],
   "source": [
    "from sklearn.neural_network import MLPClassifier\n",
    "from sklearn.datasets import make_classification"
   ]
  },
  {
   "cell_type": "code",
   "execution_count": null,
   "metadata": {},
   "outputs": [],
   "source": [
    "from sklearn.linear_model import LogisticRegression"
   ]
  },
  {
   "cell_type": "code",
   "execution_count": null,
   "metadata": {},
   "outputs": [],
   "source": [
    "#case1 1 column missing\n",
    "from sklearn.svm import SVC;\n",
    "from sklearn.metrics import accuracy_score\n",
    "df2=df1.copy()"
   ]
  },
  {
   "cell_type": "code",
   "execution_count": 111,
   "metadata": {},
   "outputs": [],
   "source": [
    "def onecolmissclassificationaccuracy(column,df1):\n",
    "    from sklearn.metrics import f1_score\n",
    "    df1.drop(df1.columns[column],axis=1,inplace=True)\n",
    "    from sklearn.model_selection import train_test_split\n",
    "    Xtrain,Xtest,Ytrain,Ytest=train_test_split(df1,target,test_size=0.2)\n",
    "    clf = LogisticRegression()\n",
    "    clf.fit(Xtrain,Ytrain)\n",
    "    predicted=clf.predict(Xtest)\n",
    "    # accuracy when columns are actually missing\n",
    "    print(accuracy_score(Ytest,predicted))\n",
    "    predcol=l1\n",
    "    df1[column]=predcol\n",
    "    Xtrain,Xtest,Ytrain,Ytest=train_test_split(df1,target,test_size=0.2)\n",
    "    clf = LogisticRegression()\n",
    "    clf=clf.fit(Xtrain,Ytrain)\n",
    "    clf.fit(Xtrain,Ytrain)\n",
    "    predicted=clf.predict(Xtest)\n",
    "    #accuracy after predicted column inserted to the dataset\n",
    "    print(accuracy_score(Ytest,predicted))\n",
    "    print(f1_score(Ytest,predicted))"
   ]
  },
  {
   "cell_type": "code",
   "execution_count": null,
   "metadata": {},
   "outputs": [],
   "source": [
    "def twocolmissclassificationaccuracy(column,df1):\n",
    "    \n",
    "    df1.drop(df1.columns[column],axis=1,inplace=True)\n",
    "    from sklearn.model_selection import train_test_split\n",
    "    Xtrain,Xtest,Ytrain,Ytest=train_test_split(df1,target,test_size=0.2)\n",
    "    clf=MLPClassifier(random_state=1, max_iter=300)\n",
    "    clf.fit(Xtrain,Ytrain)\n",
    "    predicted=clf.predict(Xtest)\n",
    "    # accuracy when columns are actually missing\n",
    "    print(accuracy_score(Ytest,predicted))\n",
    "   \n",
    "    df1[column[0]]=l1\n",
    "    df1[column[1]]=l2\n",
    "    Xtrain,Xtest=MLPClassifier(random_state=1, max_iter=300)\n",
    "    clf.fit(Xtrain,Ytrain)\n",
    "    predicted=clf.predict(Xtest)\n",
    "    #accuracy after predicted column inserted to the dataset\n",
    "    print(accuracy_score(Ytest,predicted))\n",
    "    "
   ]
  },
  {
   "cell_type": "code",
   "execution_count": null,
   "metadata": {},
   "outputs": [],
   "source": [
    "def threecolmissclassificationaccuracy():\n",
    "    column=[\"alpha21\",\"alpha28\",\"alpha35\"]\n",
    "    df1.drop(column,axis=1,inplace=True)\n",
    "    from sklearn.model_selection import train_test_split\n",
    "    Xtrain,Xtest,Ytrain,Ytest=train_test_split(df1,target,test_size=0.2)\n",
    "    clf=SVC()\n",
    "    clf.fit(Xtrain,Ytrain)\n",
    "    predicted=clf.predict(Xtest)\n",
    "    # accuracy when columns are actually missing\n",
    "    print(accuracy_score(Ytest,predicted))\n",
    "    df1[column[0]]=l1\n",
    "    df1[column[1]]=l2\n",
    "    df1[column[2]]=l3\n",
    "    Xtrain,Xtest,Ytrain,Ytest=train_test_split(df1,target,test_size=0.2)\n",
    "    clf=SVC()\n",
    "    clf.fit(Xtrain,Ytrain)\n",
    "    predicted=clf.predict(Xtest)\n",
    "    #accuracy after predicted column inserted to the dataset\n",
    "    print(accuracy_score(Ytest,predicted))\n",
    "   "
   ]
  },
  {
   "cell_type": "code",
   "execution_count": null,
   "metadata": {},
   "outputs": [],
   "source": [
    "onecolmissclassificationaccuracy(18,df6186)"
   ]
  },
  {
   "cell_type": "markdown",
   "metadata": {},
   "source": [
    "# Extrapolation"
   ]
  },
  {
   "cell_type": "code",
   "execution_count": null,
   "metadata": {},
   "outputs": [],
   "source": [
    "def extrapolate1col(dffinal ,cols,pred_col):\n",
    "    from statsmodels.tsa.ar_model import AutoReg\n",
    "    from sklearn.metrics import mean_squared_error\n",
    "    \n",
    "    from math import sqrt\n",
    "    l=[]\n",
    "    n=len(dffinal.columns)\n",
    "    pred=[]\n",
    "    \n",
    "    \n",
    "    for i in range(len(dffinal)):\n",
    "        train=dffinal.iloc[i].values[0:cols]\n",
    "        test=dffinal.iloc[i].values[cols:]\n",
    "       \n",
    "        #print(test[pred_col-1-cols])\n",
    "        model = AutoReg(train,lags=0)\n",
    "        model_fit = model.fit()\n",
    "        predictions = model_fit.predict(start=len(train), end=len(train)+len(test)-1, dynamic=False)\n",
    "        #print(predictions[pred_col-1-cols])\n",
    "        pred.append(predictions[pred_col-1-cols])\n",
    "        rmse = sqrt(mean_squared_error([test[pred_col-1-cols]], [predictions[pred_col-1-cols]]))\n",
    "        nrmse=rmse/(max(train)-min(train))\n",
    "        l.append(rmse)\n",
    "    #print(test[pred_col-1-cols])\n",
    "    return np.mean(l),pred"
   ]
  },
  {
   "cell_type": "code",
   "execution_count": 103,
   "metadata": {},
   "outputs": [],
   "source": [
    "mean,p=extrapolate1col(dfgse3406,3,4)"
   ]
  },
  {
   "cell_type": "code",
   "execution_count": 104,
   "metadata": {},
   "outputs": [
    {
     "data": {
      "text/plain": [
       "0.781600494739533"
      ]
     },
     "execution_count": 104,
     "metadata": {},
     "output_type": "execute_result"
    }
   ],
   "source": [
    "mean"
   ]
  },
  {
   "cell_type": "code",
   "execution_count": 21,
   "metadata": {},
   "outputs": [],
   "source": [
    "ex1=ex2=0\n",
    "def extrapolate2col(dffinal ,cols,pred_col):\n",
    "    ex1,p1=extrapolate1col(dffinal ,cols,pred_col[0])\n",
    "    ex2,p2=extrapolate1col(dffinal ,cols,pred_col[1])\n",
    "    return (ex1+ex2)/2,p1,p2"
   ]
  },
  {
   "cell_type": "code",
   "execution_count": null,
   "metadata": {},
   "outputs": [],
   "source": [
    "nrmse,p1,p2=extrapolate2col(df1,15,[16,18]);"
   ]
  },
  {
   "cell_type": "code",
   "execution_count": null,
   "metadata": {},
   "outputs": [],
   "source": [
    "df1.columns"
   ]
  },
  {
   "cell_type": "code",
   "execution_count": 125,
   "metadata": {},
   "outputs": [],
   "source": [
    "def onecolmissclassificationaccuracyex(df1,cols,columnindex,target):\n",
    "    from sklearn.svm import SVC;\n",
    "    from sklearn.metrics import f1_score\n",
    "    from sklearn.metrics import accuracy_score\n",
    "    ex,l1=extrapolate1col(df1,cols,columnindex)\n",
    "    column=df1.columns[columnindex-1];\n",
    "    df1.drop(column,axis=1,inplace=True)\n",
    "    from sklearn.model_selection import train_test_split\n",
    "    Xtrain,Xtest,Ytrain,Ytest=train_test_split(df1,target,test_size=0.2)\n",
    "    clf= DecisionTreeClassifier()\n",
    "    clf.fit(Xtrain,Ytrain)\n",
    "    predicted=clf.predict(Xtest)\n",
    "    # accuracy when columns are actually missing\n",
    "    print(accuracy_score(Ytest,predicted))\n",
    "    predcol=l1\n",
    "    df1[column]=predcol\n",
    "    Xtrain,Xtest,Ytrain,Ytest=train_test_split(df1,target,test_size=0.2)\n",
    "    clf = DecisionTreeClassifier()\n",
    "    clf.fit(Xtrain,Ytrain)\n",
    "    predicted=clf.predict(Xtest)\n",
    "    #accuracy after predicted column inserted to the dataset\n",
    "    print(accuracy_score(Ytest,predicted))\n",
    "    print(f1_score(Ytest,predicted,average=\"micro\"))"
   ]
  },
  {
   "cell_type": "code",
   "execution_count": null,
   "metadata": {},
   "outputs": [],
   "source": [
    "def twocolmissclassificationaccuracyex(df1,cols,columnindex,target):\n",
    "    from sklearn.svm import SVC;\n",
    "    from sklearn.metrics import accuracy_score\n",
    "    ex,l1,l2=extrapolate2col(df1,cols,columnindex)\n",
    "    column=[0,0]\n",
    "    column[0]=df1.columns[columnindex[0]-1];\n",
    "    column[1]=df1.columns[columnindex[1]-1];\n",
    "    df1.drop(column,axis=1,inplace=True)\n",
    "    from sklearn.model_selection import train_test_split\n",
    "    Xtrain,Xtest,Ytrain,Ytest=train_test_split(df1,target,test_size=0.2)\n",
    "    clf =LogisticRegression()\n",
    "    clf.fit(Xtrain,Ytrain)\n",
    "    predicted=clf.predict(Xtest)\n",
    "    # accuracy when columns are actually missing\n",
    "    print(accuracy_score(Ytest,predicted))\n",
    "    predcol1=l1\n",
    "    predcol2=l2\n",
    "    df1[column[0]]=predcol1\n",
    "    df1[column[1]]=predcol2\n",
    "    Xtrain,Xtest,Ytrain,Ytest=train_test_split(df1,target,test_size=0.2)\n",
    "    clf = LogisticRegression()\n",
    "    clf.fit(Xtrain,Ytrain)\n",
    "    predicted=clf.predict(Xtest)\n",
    "    #accuracy after predicted column inserted to the dataset\n",
    "    print(accuracy_score(Ytest,predicted))"
   ]
  },
  {
   "cell_type": "code",
   "execution_count": null,
   "metadata": {},
   "outputs": [],
   "source": [
    "onecolmissclassificationaccuracyex(df6186,15,18,target)"
   ]
  },
  {
   "cell_type": "code",
   "execution_count": 86,
   "metadata": {},
   "outputs": [],
   "source": [
    "df6186=pd.read_excel(\"6186 finalfinal.xlsx\")"
   ]
  },
  {
   "cell_type": "code",
   "execution_count": 87,
   "metadata": {},
   "outputs": [
    {
     "data": {
      "text/html": [
       "<div>\n",
       "<style scoped>\n",
       "    .dataframe tbody tr th:only-of-type {\n",
       "        vertical-align: middle;\n",
       "    }\n",
       "\n",
       "    .dataframe tbody tr th {\n",
       "        vertical-align: top;\n",
       "    }\n",
       "\n",
       "    .dataframe thead th {\n",
       "        text-align: right;\n",
       "    }\n",
       "</style>\n",
       "<table border=\"1\" class=\"dataframe\">\n",
       "  <thead>\n",
       "    <tr style=\"text-align: right;\">\n",
       "      <th></th>\n",
       "      <th>ID_REF</th>\n",
       "      <th>1</th>\n",
       "      <th>2</th>\n",
       "      <th>3</th>\n",
       "      <th>4</th>\n",
       "      <th>5</th>\n",
       "      <th>6</th>\n",
       "      <th>7</th>\n",
       "      <th>8</th>\n",
       "      <th>9</th>\n",
       "      <th>...</th>\n",
       "      <th>15</th>\n",
       "      <th>16</th>\n",
       "      <th>17</th>\n",
       "      <th>18</th>\n",
       "      <th>19</th>\n",
       "      <th>20</th>\n",
       "      <th>21</th>\n",
       "      <th>22</th>\n",
       "      <th>23</th>\n",
       "      <th>target</th>\n",
       "    </tr>\n",
       "  </thead>\n",
       "  <tbody>\n",
       "    <tr>\n",
       "      <td>0</td>\n",
       "      <td>KP=KP00013-429</td>\n",
       "      <td>1.1252</td>\n",
       "      <td>1.1305</td>\n",
       "      <td>0.5296</td>\n",
       "      <td>0.5898</td>\n",
       "      <td>0.3614</td>\n",
       "      <td>0.1353</td>\n",
       "      <td>-0.0120</td>\n",
       "      <td>0.2066</td>\n",
       "      <td>0.1579</td>\n",
       "      <td>...</td>\n",
       "      <td>0.6471</td>\n",
       "      <td>0.3088</td>\n",
       "      <td>0.3494</td>\n",
       "      <td>0.2104</td>\n",
       "      <td>0.5150</td>\n",
       "      <td>0.1257</td>\n",
       "      <td>0.4085</td>\n",
       "      <td>0.2404</td>\n",
       "      <td>0.0496</td>\n",
       "      <td>1</td>\n",
       "    </tr>\n",
       "    <tr>\n",
       "      <td>1</td>\n",
       "      <td>KP=KP00054-259</td>\n",
       "      <td>-1.4435</td>\n",
       "      <td>-0.9876</td>\n",
       "      <td>-1.0598</td>\n",
       "      <td>-0.9490</td>\n",
       "      <td>-0.9565</td>\n",
       "      <td>-0.6705</td>\n",
       "      <td>-0.5152</td>\n",
       "      <td>-0.5536</td>\n",
       "      <td>-0.4854</td>\n",
       "      <td>...</td>\n",
       "      <td>-0.9442</td>\n",
       "      <td>-1.1966</td>\n",
       "      <td>-0.9610</td>\n",
       "      <td>-1.0499</td>\n",
       "      <td>-1.0448</td>\n",
       "      <td>-1.1887</td>\n",
       "      <td>-1.0883</td>\n",
       "      <td>-1.1047</td>\n",
       "      <td>-1.2888</td>\n",
       "      <td>2</td>\n",
       "    </tr>\n",
       "    <tr>\n",
       "      <td>2</td>\n",
       "      <td>KP=KP00055-374</td>\n",
       "      <td>0.3991</td>\n",
       "      <td>0.1695</td>\n",
       "      <td>-0.5008</td>\n",
       "      <td>-0.3099</td>\n",
       "      <td>-0.2476</td>\n",
       "      <td>0.0694</td>\n",
       "      <td>0.0186</td>\n",
       "      <td>0.2746</td>\n",
       "      <td>-0.2014</td>\n",
       "      <td>...</td>\n",
       "      <td>-0.5084</td>\n",
       "      <td>-0.3902</td>\n",
       "      <td>-0.4377</td>\n",
       "      <td>-0.5140</td>\n",
       "      <td>0.0621</td>\n",
       "      <td>-0.5437</td>\n",
       "      <td>-0.2545</td>\n",
       "      <td>-0.3603</td>\n",
       "      <td>-0.4765</td>\n",
       "      <td>1</td>\n",
       "    </tr>\n",
       "    <tr>\n",
       "      <td>3</td>\n",
       "      <td>KP=KP00057-750</td>\n",
       "      <td>-1.4176</td>\n",
       "      <td>-1.0125</td>\n",
       "      <td>-0.7162</td>\n",
       "      <td>-0.4826</td>\n",
       "      <td>-0.5515</td>\n",
       "      <td>-0.4546</td>\n",
       "      <td>-0.5243</td>\n",
       "      <td>-0.4725</td>\n",
       "      <td>-0.3789</td>\n",
       "      <td>...</td>\n",
       "      <td>0.2008</td>\n",
       "      <td>0.7579</td>\n",
       "      <td>0.9413</td>\n",
       "      <td>0.8618</td>\n",
       "      <td>1.1395</td>\n",
       "      <td>0.5089</td>\n",
       "      <td>0.7835</td>\n",
       "      <td>0.7418</td>\n",
       "      <td>0.5785</td>\n",
       "      <td>3</td>\n",
       "    </tr>\n",
       "    <tr>\n",
       "      <td>4</td>\n",
       "      <td>KP=KP00064-678</td>\n",
       "      <td>-1.5009</td>\n",
       "      <td>-1.2619</td>\n",
       "      <td>-0.9980</td>\n",
       "      <td>-0.5685</td>\n",
       "      <td>-1.0233</td>\n",
       "      <td>-0.9490</td>\n",
       "      <td>-0.6387</td>\n",
       "      <td>-0.6536</td>\n",
       "      <td>-0.6834</td>\n",
       "      <td>...</td>\n",
       "      <td>0.0272</td>\n",
       "      <td>0.5341</td>\n",
       "      <td>1.6082</td>\n",
       "      <td>1.5808</td>\n",
       "      <td>2.1221</td>\n",
       "      <td>0.0786</td>\n",
       "      <td>0.1194</td>\n",
       "      <td>0.3053</td>\n",
       "      <td>-0.3646</td>\n",
       "      <td>2</td>\n",
       "    </tr>\n",
       "    <tr>\n",
       "      <td>5</td>\n",
       "      <td>KP=KP00065-750</td>\n",
       "      <td>-1.4189</td>\n",
       "      <td>-0.9554</td>\n",
       "      <td>-0.9359</td>\n",
       "      <td>-0.3935</td>\n",
       "      <td>-0.5422</td>\n",
       "      <td>-0.7668</td>\n",
       "      <td>-0.5901</td>\n",
       "      <td>-0.6712</td>\n",
       "      <td>-0.6038</td>\n",
       "      <td>...</td>\n",
       "      <td>-0.6728</td>\n",
       "      <td>-0.7909</td>\n",
       "      <td>0.0191</td>\n",
       "      <td>1.0575</td>\n",
       "      <td>0.6846</td>\n",
       "      <td>0.7060</td>\n",
       "      <td>0.6520</td>\n",
       "      <td>0.6708</td>\n",
       "      <td>0.6783</td>\n",
       "      <td>3</td>\n",
       "    </tr>\n",
       "    <tr>\n",
       "      <td>6</td>\n",
       "      <td>KP=KP00066-241</td>\n",
       "      <td>-1.6866</td>\n",
       "      <td>-0.8625</td>\n",
       "      <td>-0.6620</td>\n",
       "      <td>0.1074</td>\n",
       "      <td>0.3704</td>\n",
       "      <td>0.5015</td>\n",
       "      <td>0.0154</td>\n",
       "      <td>0.2794</td>\n",
       "      <td>-0.5228</td>\n",
       "      <td>...</td>\n",
       "      <td>-0.9574</td>\n",
       "      <td>-0.9518</td>\n",
       "      <td>-0.8160</td>\n",
       "      <td>-0.7483</td>\n",
       "      <td>-0.8347</td>\n",
       "      <td>-0.6751</td>\n",
       "      <td>-0.9214</td>\n",
       "      <td>-0.7155</td>\n",
       "      <td>-1.1140</td>\n",
       "      <td>2</td>\n",
       "    </tr>\n",
       "    <tr>\n",
       "      <td>7</td>\n",
       "      <td>KP=KP00068-466</td>\n",
       "      <td>-0.7925</td>\n",
       "      <td>0.4650</td>\n",
       "      <td>0.0768</td>\n",
       "      <td>0.8370</td>\n",
       "      <td>1.6833</td>\n",
       "      <td>1.7397</td>\n",
       "      <td>1.6859</td>\n",
       "      <td>1.2736</td>\n",
       "      <td>0.8440</td>\n",
       "      <td>...</td>\n",
       "      <td>-0.5698</td>\n",
       "      <td>-1.1275</td>\n",
       "      <td>-1.0183</td>\n",
       "      <td>-0.7532</td>\n",
       "      <td>-1.1681</td>\n",
       "      <td>-1.0841</td>\n",
       "      <td>-0.9168</td>\n",
       "      <td>-0.8943</td>\n",
       "      <td>-1.2944</td>\n",
       "      <td>2</td>\n",
       "    </tr>\n",
       "    <tr>\n",
       "      <td>8</td>\n",
       "      <td>KP=KP00070-750</td>\n",
       "      <td>-0.5215</td>\n",
       "      <td>-0.3622</td>\n",
       "      <td>-0.6866</td>\n",
       "      <td>-0.3808</td>\n",
       "      <td>-0.2624</td>\n",
       "      <td>0.3315</td>\n",
       "      <td>0.6587</td>\n",
       "      <td>0.4909</td>\n",
       "      <td>0.4584</td>\n",
       "      <td>...</td>\n",
       "      <td>0.0556</td>\n",
       "      <td>-0.4673</td>\n",
       "      <td>-0.3664</td>\n",
       "      <td>-0.2868</td>\n",
       "      <td>-0.4719</td>\n",
       "      <td>-0.5146</td>\n",
       "      <td>-0.4580</td>\n",
       "      <td>-0.4442</td>\n",
       "      <td>-0.4175</td>\n",
       "      <td>2</td>\n",
       "    </tr>\n",
       "    <tr>\n",
       "      <td>9</td>\n",
       "      <td>KP=KP00071-750</td>\n",
       "      <td>-2.8194</td>\n",
       "      <td>-2.3097</td>\n",
       "      <td>-2.0571</td>\n",
       "      <td>-1.8024</td>\n",
       "      <td>-2.5934</td>\n",
       "      <td>-2.1956</td>\n",
       "      <td>-1.6883</td>\n",
       "      <td>-1.7452</td>\n",
       "      <td>-1.9362</td>\n",
       "      <td>...</td>\n",
       "      <td>-0.6636</td>\n",
       "      <td>-0.2210</td>\n",
       "      <td>0.0257</td>\n",
       "      <td>-0.3908</td>\n",
       "      <td>-0.1839</td>\n",
       "      <td>-0.3201</td>\n",
       "      <td>-0.2775</td>\n",
       "      <td>-0.2886</td>\n",
       "      <td>-0.2770</td>\n",
       "      <td>3</td>\n",
       "    </tr>\n",
       "  </tbody>\n",
       "</table>\n",
       "<p>10 rows × 25 columns</p>\n",
       "</div>"
      ],
      "text/plain": [
       "           ID_REF       1       2       3       4       5       6       7  \\\n",
       "0  KP=KP00013-429  1.1252  1.1305  0.5296  0.5898  0.3614  0.1353 -0.0120   \n",
       "1  KP=KP00054-259 -1.4435 -0.9876 -1.0598 -0.9490 -0.9565 -0.6705 -0.5152   \n",
       "2  KP=KP00055-374  0.3991  0.1695 -0.5008 -0.3099 -0.2476  0.0694  0.0186   \n",
       "3  KP=KP00057-750 -1.4176 -1.0125 -0.7162 -0.4826 -0.5515 -0.4546 -0.5243   \n",
       "4  KP=KP00064-678 -1.5009 -1.2619 -0.9980 -0.5685 -1.0233 -0.9490 -0.6387   \n",
       "5  KP=KP00065-750 -1.4189 -0.9554 -0.9359 -0.3935 -0.5422 -0.7668 -0.5901   \n",
       "6  KP=KP00066-241 -1.6866 -0.8625 -0.6620  0.1074  0.3704  0.5015  0.0154   \n",
       "7  KP=KP00068-466 -0.7925  0.4650  0.0768  0.8370  1.6833  1.7397  1.6859   \n",
       "8  KP=KP00070-750 -0.5215 -0.3622 -0.6866 -0.3808 -0.2624  0.3315  0.6587   \n",
       "9  KP=KP00071-750 -2.8194 -2.3097 -2.0571 -1.8024 -2.5934 -2.1956 -1.6883   \n",
       "\n",
       "        8       9  ...      15      16      17      18      19      20  \\\n",
       "0  0.2066  0.1579  ...  0.6471  0.3088  0.3494  0.2104  0.5150  0.1257   \n",
       "1 -0.5536 -0.4854  ... -0.9442 -1.1966 -0.9610 -1.0499 -1.0448 -1.1887   \n",
       "2  0.2746 -0.2014  ... -0.5084 -0.3902 -0.4377 -0.5140  0.0621 -0.5437   \n",
       "3 -0.4725 -0.3789  ...  0.2008  0.7579  0.9413  0.8618  1.1395  0.5089   \n",
       "4 -0.6536 -0.6834  ...  0.0272  0.5341  1.6082  1.5808  2.1221  0.0786   \n",
       "5 -0.6712 -0.6038  ... -0.6728 -0.7909  0.0191  1.0575  0.6846  0.7060   \n",
       "6  0.2794 -0.5228  ... -0.9574 -0.9518 -0.8160 -0.7483 -0.8347 -0.6751   \n",
       "7  1.2736  0.8440  ... -0.5698 -1.1275 -1.0183 -0.7532 -1.1681 -1.0841   \n",
       "8  0.4909  0.4584  ...  0.0556 -0.4673 -0.3664 -0.2868 -0.4719 -0.5146   \n",
       "9 -1.7452 -1.9362  ... -0.6636 -0.2210  0.0257 -0.3908 -0.1839 -0.3201   \n",
       "\n",
       "       21      22      23  target  \n",
       "0  0.4085  0.2404  0.0496       1  \n",
       "1 -1.0883 -1.1047 -1.2888       2  \n",
       "2 -0.2545 -0.3603 -0.4765       1  \n",
       "3  0.7835  0.7418  0.5785       3  \n",
       "4  0.1194  0.3053 -0.3646       2  \n",
       "5  0.6520  0.6708  0.6783       3  \n",
       "6 -0.9214 -0.7155 -1.1140       2  \n",
       "7 -0.9168 -0.8943 -1.2944       2  \n",
       "8 -0.4580 -0.4442 -0.4175       2  \n",
       "9 -0.2775 -0.2886 -0.2770       3  \n",
       "\n",
       "[10 rows x 25 columns]"
      ]
     },
     "execution_count": 87,
     "metadata": {},
     "output_type": "execute_result"
    }
   ],
   "source": [
    "df6186.head(10)"
   ]
  },
  {
   "cell_type": "code",
   "execution_count": 88,
   "metadata": {},
   "outputs": [],
   "source": [
    "df6186.drop(\"ID_REF\", axis=1,inplace=True)     # only run on initial launch"
   ]
  },
  {
   "cell_type": "code",
   "execution_count": 89,
   "metadata": {},
   "outputs": [],
   "source": [
    "target=df6186.target;\n",
    "df6186.drop(\"target\", axis=1,inplace=True)  "
   ]
  },
  {
   "cell_type": "code",
   "execution_count": 18,
   "metadata": {},
   "outputs": [],
   "source": [
    "mean,pred=extrapolate1col(df6186,21,22)"
   ]
  },
  {
   "cell_type": "code",
   "execution_count": 19,
   "metadata": {},
   "outputs": [
    {
     "data": {
      "text/plain": [
       "0.6555908495797385"
      ]
     },
     "execution_count": 19,
     "metadata": {},
     "output_type": "execute_result"
    }
   ],
   "source": [
    "mean"
   ]
  },
  {
   "cell_type": "code",
   "execution_count": 24,
   "metadata": {},
   "outputs": [],
   "source": [
    "mean2,pred2a,pred2b=extrapolate2col(df6186,20,[21,22])"
   ]
  },
  {
   "cell_type": "code",
   "execution_count": 25,
   "metadata": {},
   "outputs": [
    {
     "data": {
      "text/plain": [
       "0.7001771554888221"
      ]
     },
     "execution_count": 25,
     "metadata": {},
     "output_type": "execute_result"
    }
   ],
   "source": [
    "mean2"
   ]
  },
  {
   "cell_type": "code",
   "execution_count": 126,
   "metadata": {},
   "outputs": [
    {
     "name": "stderr",
     "output_type": "stream",
     "text": [
      "C:\\Users\\ABHISHEK PAUL\\Anaconda3\\lib\\site-packages\\sklearn\\tree\\tree.py:163: DeprecationWarning: `np.int` is a deprecated alias for the builtin `int`. To silence this warning, use `int` by itself. Doing this will not modify any behavior and is safe. When replacing `np.int`, you may wish to use e.g. `np.int64` or `np.int32` to specify the precision. If you wish to review your current use, check the release note link for additional information.\n",
      "Deprecated in NumPy 1.20; for more details and guidance: https://numpy.org/devdocs/release/1.20.0-notes.html#deprecations\n",
      "  y_encoded = np.zeros(y.shape, dtype=np.int)\n",
      "C:\\Users\\ABHISHEK PAUL\\Anaconda3\\lib\\site-packages\\sklearn\\tree\\tree.py:163: DeprecationWarning: `np.int` is a deprecated alias for the builtin `int`. To silence this warning, use `int` by itself. Doing this will not modify any behavior and is safe. When replacing `np.int`, you may wish to use e.g. `np.int64` or `np.int32` to specify the precision. If you wish to review your current use, check the release note link for additional information.\n",
      "Deprecated in NumPy 1.20; for more details and guidance: https://numpy.org/devdocs/release/1.20.0-notes.html#deprecations\n",
      "  y_encoded = np.zeros(y.shape, dtype=np.int)\n"
     ]
    },
    {
     "name": "stdout",
     "output_type": "stream",
     "text": [
      "0.86\n",
      "0.875\n",
      "0.875\n"
     ]
    }
   ],
   "source": [
    "onecolmissclassificationaccuracyex(df6186,14,16,target)"
   ]
  },
  {
   "cell_type": "code",
   "execution_count": null,
   "metadata": {},
   "outputs": [],
   "source": [
    "#patient"
   ]
  },
  {
   "cell_type": "code",
   "execution_count": 181,
   "metadata": {},
   "outputs": [],
   "source": [
    "dfpat=pd.read_excel(\"patients.xlsx\");"
   ]
  },
  {
   "cell_type": "code",
   "execution_count": 182,
   "metadata": {},
   "outputs": [
    {
     "data": {
      "text/html": [
       "<div>\n",
       "<style scoped>\n",
       "    .dataframe tbody tr th:only-of-type {\n",
       "        vertical-align: middle;\n",
       "    }\n",
       "\n",
       "    .dataframe tbody tr th {\n",
       "        vertical-align: top;\n",
       "    }\n",
       "\n",
       "    .dataframe thead th {\n",
       "        text-align: right;\n",
       "    }\n",
       "</style>\n",
       "<table border=\"1\" class=\"dataframe\">\n",
       "  <thead>\n",
       "    <tr style=\"text-align: right;\">\n",
       "      <th></th>\n",
       "      <th>target</th>\n",
       "      <th>ID</th>\n",
       "      <th>Time</th>\n",
       "      <th>feature</th>\n",
       "    </tr>\n",
       "  </thead>\n",
       "  <tbody>\n",
       "    <tr>\n",
       "      <td>0</td>\n",
       "      <td>good</td>\n",
       "      <td>1254729</td>\n",
       "      <td>t0</td>\n",
       "      <td>5048.689817</td>\n",
       "    </tr>\n",
       "    <tr>\n",
       "      <td>1</td>\n",
       "      <td>good</td>\n",
       "      <td>1254729</td>\n",
       "      <td>t3</td>\n",
       "      <td>6348.158295</td>\n",
       "    </tr>\n",
       "    <tr>\n",
       "      <td>2</td>\n",
       "      <td>good</td>\n",
       "      <td>1254729</td>\n",
       "      <td>t6</td>\n",
       "      <td>6400.479900</td>\n",
       "    </tr>\n",
       "    <tr>\n",
       "      <td>3</td>\n",
       "      <td>good</td>\n",
       "      <td>1254729</td>\n",
       "      <td>t9</td>\n",
       "      <td>5013.432324</td>\n",
       "    </tr>\n",
       "    <tr>\n",
       "      <td>4</td>\n",
       "      <td>good</td>\n",
       "      <td>1254729</td>\n",
       "      <td>t12</td>\n",
       "      <td>6020.225222</td>\n",
       "    </tr>\n",
       "  </tbody>\n",
       "</table>\n",
       "</div>"
      ],
      "text/plain": [
       "  target       ID Time      feature\n",
       "0   good  1254729   t0  5048.689817\n",
       "1   good  1254729   t3  6348.158295\n",
       "2   good  1254729   t6  6400.479900\n",
       "3   good  1254729   t9  5013.432324\n",
       "4   good  1254729  t12  6020.225222"
      ]
     },
     "execution_count": 182,
     "metadata": {},
     "output_type": "execute_result"
    }
   ],
   "source": [
    "dfpat.head()"
   ]
  },
  {
   "cell_type": "code",
   "execution_count": 183,
   "metadata": {},
   "outputs": [
    {
     "data": {
      "text/plain": [
       "target     0\n",
       "ID         0\n",
       "Time       0\n",
       "feature    0\n",
       "dtype: int64"
      ]
     },
     "execution_count": 183,
     "metadata": {},
     "output_type": "execute_result"
    }
   ],
   "source": [
    "dfpat.isnull().sum()"
   ]
  },
  {
   "cell_type": "code",
   "execution_count": null,
   "metadata": {},
   "outputs": [],
   "source": []
  },
  {
   "cell_type": "code",
   "execution_count": 184,
   "metadata": {},
   "outputs": [],
   "source": [
    "dft0=dfpat[dfpat[\"Time\"]==\"t0\"]\n",
    "dft0list=dft0[\"feature\"].tolist()"
   ]
  },
  {
   "cell_type": "code",
   "execution_count": 185,
   "metadata": {},
   "outputs": [],
   "source": [
    "target=dft0[\"target\"].tolist()"
   ]
  },
  {
   "cell_type": "code",
   "execution_count": 186,
   "metadata": {},
   "outputs": [],
   "source": [
    "dft3=dfpat[dfpat[\"Time\"]==\"t3\"]\n",
    "dft3list=dft3[\"feature\"].tolist()"
   ]
  },
  {
   "cell_type": "code",
   "execution_count": 187,
   "metadata": {},
   "outputs": [],
   "source": [
    "dft6=dfpat[dfpat[\"Time\"]==\"t6\"]\n",
    "dft6list=dft6[\"feature\"].tolist()"
   ]
  },
  {
   "cell_type": "code",
   "execution_count": 188,
   "metadata": {},
   "outputs": [],
   "source": [
    "dft9=dfpat[dfpat[\"Time\"]==\"t9\"]\n",
    "dft9list=dft9[\"feature\"].tolist()"
   ]
  },
  {
   "cell_type": "code",
   "execution_count": 189,
   "metadata": {},
   "outputs": [],
   "source": [
    "dft12=dfpat[dfpat[\"Time\"]==\"t12\"]\n",
    "dft12list=dft12[\"feature\"].tolist()"
   ]
  },
  {
   "cell_type": "code",
   "execution_count": 190,
   "metadata": {},
   "outputs": [],
   "source": [
    "dict={0:dft0list,3:dft3list,6:dft6list,9:dft9list,12:dft12list,\"target\":target}"
   ]
  },
  {
   "cell_type": "code",
   "execution_count": 191,
   "metadata": {},
   "outputs": [],
   "source": [
    "dfpatfinal=pd.DataFrame(dict)"
   ]
  },
  {
   "cell_type": "code",
   "execution_count": 192,
   "metadata": {},
   "outputs": [
    {
     "data": {
      "text/plain": [
       "40"
      ]
     },
     "execution_count": 192,
     "metadata": {},
     "output_type": "execute_result"
    }
   ],
   "source": [
    "len(dft0list)"
   ]
  },
  {
   "cell_type": "code",
   "execution_count": 193,
   "metadata": {},
   "outputs": [
    {
     "data": {
      "text/plain": [
       "40"
      ]
     },
     "execution_count": 193,
     "metadata": {},
     "output_type": "execute_result"
    }
   ],
   "source": [
    "len(dft3list)"
   ]
  },
  {
   "cell_type": "code",
   "execution_count": 194,
   "metadata": {},
   "outputs": [
    {
     "data": {
      "text/plain": [
       "40"
      ]
     },
     "execution_count": 194,
     "metadata": {},
     "output_type": "execute_result"
    }
   ],
   "source": [
    "len(dft6list)"
   ]
  },
  {
   "cell_type": "code",
   "execution_count": 195,
   "metadata": {},
   "outputs": [
    {
     "data": {
      "text/plain": [
       "40"
      ]
     },
     "execution_count": 195,
     "metadata": {},
     "output_type": "execute_result"
    }
   ],
   "source": [
    "len(dft9list)"
   ]
  },
  {
   "cell_type": "code",
   "execution_count": 196,
   "metadata": {},
   "outputs": [
    {
     "data": {
      "text/plain": [
       "40"
      ]
     },
     "execution_count": 196,
     "metadata": {},
     "output_type": "execute_result"
    }
   ],
   "source": [
    "len(dft12list)"
   ]
  },
  {
   "cell_type": "code",
   "execution_count": 197,
   "metadata": {},
   "outputs": [
    {
     "data": {
      "text/plain": [
       "40"
      ]
     },
     "execution_count": 197,
     "metadata": {},
     "output_type": "execute_result"
    }
   ],
   "source": [
    "len(target)"
   ]
  },
  {
   "cell_type": "code",
   "execution_count": 198,
   "metadata": {},
   "outputs": [
    {
     "data": {
      "text/html": [
       "<div>\n",
       "<style scoped>\n",
       "    .dataframe tbody tr th:only-of-type {\n",
       "        vertical-align: middle;\n",
       "    }\n",
       "\n",
       "    .dataframe tbody tr th {\n",
       "        vertical-align: top;\n",
       "    }\n",
       "\n",
       "    .dataframe thead th {\n",
       "        text-align: right;\n",
       "    }\n",
       "</style>\n",
       "<table border=\"1\" class=\"dataframe\">\n",
       "  <thead>\n",
       "    <tr style=\"text-align: right;\">\n",
       "      <th></th>\n",
       "      <th>0</th>\n",
       "      <th>3</th>\n",
       "      <th>6</th>\n",
       "      <th>9</th>\n",
       "      <th>12</th>\n",
       "      <th>target</th>\n",
       "    </tr>\n",
       "  </thead>\n",
       "  <tbody>\n",
       "    <tr>\n",
       "      <td>0</td>\n",
       "      <td>5048.689817</td>\n",
       "      <td>6348.158295</td>\n",
       "      <td>6400.479900</td>\n",
       "      <td>5013.432324</td>\n",
       "      <td>6020.225222</td>\n",
       "      <td>good</td>\n",
       "    </tr>\n",
       "    <tr>\n",
       "      <td>1</td>\n",
       "      <td>5357.149106</td>\n",
       "      <td>5374.803537</td>\n",
       "      <td>7936.740482</td>\n",
       "      <td>4043.214872</td>\n",
       "      <td>6114.176275</td>\n",
       "      <td>good</td>\n",
       "    </tr>\n",
       "    <tr>\n",
       "      <td>2</td>\n",
       "      <td>3283.819600</td>\n",
       "      <td>4475.749468</td>\n",
       "      <td>5001.228025</td>\n",
       "      <td>6606.583594</td>\n",
       "      <td>6718.768285</td>\n",
       "      <td>good</td>\n",
       "    </tr>\n",
       "    <tr>\n",
       "      <td>3</td>\n",
       "      <td>2306.886083</td>\n",
       "      <td>3618.618971</td>\n",
       "      <td>3327.837436</td>\n",
       "      <td>6413.826145</td>\n",
       "      <td>4493.111619</td>\n",
       "      <td>good</td>\n",
       "    </tr>\n",
       "    <tr>\n",
       "      <td>4</td>\n",
       "      <td>2232.509036</td>\n",
       "      <td>4933.995077</td>\n",
       "      <td>5899.606295</td>\n",
       "      <td>5630.969661</td>\n",
       "      <td>5321.601233</td>\n",
       "      <td>good</td>\n",
       "    </tr>\n",
       "  </tbody>\n",
       "</table>\n",
       "</div>"
      ],
      "text/plain": [
       "             0            3            6            9           12 target\n",
       "0  5048.689817  6348.158295  6400.479900  5013.432324  6020.225222   good\n",
       "1  5357.149106  5374.803537  7936.740482  4043.214872  6114.176275   good\n",
       "2  3283.819600  4475.749468  5001.228025  6606.583594  6718.768285   good\n",
       "3  2306.886083  3618.618971  3327.837436  6413.826145  4493.111619   good\n",
       "4  2232.509036  4933.995077  5899.606295  5630.969661  5321.601233   good"
      ]
     },
     "execution_count": 198,
     "metadata": {},
     "output_type": "execute_result"
    }
   ],
   "source": [
    "dfpatfinal.head()"
   ]
  },
  {
   "cell_type": "code",
   "execution_count": null,
   "metadata": {},
   "outputs": [],
   "source": []
  },
  {
   "cell_type": "code",
   "execution_count": 199,
   "metadata": {},
   "outputs": [],
   "source": [
    "dfpatfinal.target=dfpatfinal[\"target\"].map({\"good\":1,\"bad\":0})\n",
    "target=dfpatfinal.target\n",
    "dfpatfinal.drop(\"target\",axis=1,inplace=True)"
   ]
  },
  {
   "cell_type": "code",
   "execution_count": null,
   "metadata": {},
   "outputs": [],
   "source": [
    "twocolmissclassificationaccuracyex(dfpatfinal,3,[4,5],target)"
   ]
  },
  {
   "cell_type": "code",
   "execution_count": 55,
   "metadata": {},
   "outputs": [],
   "source": [
    "mean,pa=extrapolate1col(dfgse3406,3,4)"
   ]
  },
  {
   "cell_type": "code",
   "execution_count": 56,
   "metadata": {},
   "outputs": [
    {
     "data": {
      "text/plain": [
       "0.781600494739533"
      ]
     },
     "execution_count": 56,
     "metadata": {},
     "output_type": "execute_result"
    }
   ],
   "source": [
    "mean"
   ]
  },
  {
   "cell_type": "code",
   "execution_count": 89,
   "metadata": {},
   "outputs": [
    {
     "name": "stderr",
     "output_type": "stream",
     "text": [
      "C:\\Users\\ABHISHEK PAUL\\Anaconda3\\lib\\site-packages\\ipykernel_launcher.py:21: RuntimeWarning: divide by zero encountered in double_scalars\n",
      "C:\\Users\\ABHISHEK PAUL\\Anaconda3\\lib\\site-packages\\ipykernel_launcher.py:21: RuntimeWarning: divide by zero encountered in double_scalars\n"
     ]
    }
   ],
   "source": [
    "mean,pa,pb=extrapolate2col(df6186,2,[3,4])"
   ]
  },
  {
   "cell_type": "code",
   "execution_count": 91,
   "metadata": {},
   "outputs": [
    {
     "data": {
      "text/plain": [
       "inf"
      ]
     },
     "execution_count": 91,
     "metadata": {},
     "output_type": "execute_result"
    }
   ],
   "source": [
    "mean"
   ]
  },
  {
   "cell_type": "code",
   "execution_count": null,
   "metadata": {},
   "outputs": [],
   "source": [
    "l2"
   ]
  },
  {
   "cell_type": "code",
   "execution_count": null,
   "metadata": {},
   "outputs": [],
   "source": [
    "predcol1"
   ]
  },
  {
   "cell_type": "code",
   "execution_count": null,
   "metadata": {},
   "outputs": [],
   "source": [
    "from sklearn.svm import SVC;"
   ]
  },
  {
   "cell_type": "code",
   "execution_count": null,
   "metadata": {},
   "outputs": [],
   "source": [
    "from sklearn.model_selection import train_test_split\n",
    "dfgse3406=dfgse3406.sample(frac=1)\n",
    "Xtrain,Xtest,Ytrain,Ytest=train_test_split(dfgse3406,target,test_size=0.2)\n",
    "clf =MLPClassifier()\n",
    "clf.fit(Xtrain,Ytrain)\n",
    "predicted=clf.predict(Xtest)\n",
    "print(accuracy_score(Ytest,predicted))"
   ]
  },
  {
   "cell_type": "code",
   "execution_count": null,
   "metadata": {},
   "outputs": [],
   "source": []
  },
  {
   "cell_type": "code",
   "execution_count": null,
   "metadata": {},
   "outputs": [],
   "source": [
    "# GSE3406"
   ]
  },
  {
   "cell_type": "code",
   "execution_count": 201,
   "metadata": {},
   "outputs": [],
   "source": [
    "dfgse3406=pd.read_excel(\"GSE3406.xlsx\")"
   ]
  },
  {
   "cell_type": "code",
   "execution_count": 202,
   "metadata": {},
   "outputs": [],
   "source": [
    "dfgse3406.drop(\"Unnamed: 0\",axis=1,inplace=True)"
   ]
  },
  {
   "cell_type": "code",
   "execution_count": 213,
   "metadata": {},
   "outputs": [
    {
     "data": {
      "text/html": [
       "<div>\n",
       "<style scoped>\n",
       "    .dataframe tbody tr th:only-of-type {\n",
       "        vertical-align: middle;\n",
       "    }\n",
       "\n",
       "    .dataframe tbody tr th {\n",
       "        vertical-align: top;\n",
       "    }\n",
       "\n",
       "    .dataframe thead th {\n",
       "        text-align: right;\n",
       "    }\n",
       "</style>\n",
       "<table border=\"1\" class=\"dataframe\">\n",
       "  <thead>\n",
       "    <tr style=\"text-align: right;\">\n",
       "      <th></th>\n",
       "      <th>10</th>\n",
       "      <th>20</th>\n",
       "      <th>30</th>\n",
       "      <th>45</th>\n",
       "      <th>60</th>\n",
       "      <th>90</th>\n",
       "    </tr>\n",
       "  </thead>\n",
       "  <tbody>\n",
       "    <tr>\n",
       "      <td>0</td>\n",
       "      <td>-0.739640</td>\n",
       "      <td>-0.938866</td>\n",
       "      <td>-1.666025</td>\n",
       "      <td>-0.767665</td>\n",
       "      <td>-1.028049</td>\n",
       "      <td>-0.548723</td>\n",
       "    </tr>\n",
       "    <tr>\n",
       "      <td>1</td>\n",
       "      <td>-0.048194</td>\n",
       "      <td>-0.738372</td>\n",
       "      <td>-1.649465</td>\n",
       "      <td>-0.529989</td>\n",
       "      <td>-0.741505</td>\n",
       "      <td>-0.295997</td>\n",
       "    </tr>\n",
       "    <tr>\n",
       "      <td>2</td>\n",
       "      <td>-0.950774</td>\n",
       "      <td>-0.309740</td>\n",
       "      <td>-0.688444</td>\n",
       "      <td>-0.215252</td>\n",
       "      <td>-0.541053</td>\n",
       "      <td>-0.371601</td>\n",
       "    </tr>\n",
       "    <tr>\n",
       "      <td>3</td>\n",
       "      <td>-0.194746</td>\n",
       "      <td>0.080610</td>\n",
       "      <td>-0.889706</td>\n",
       "      <td>-0.075011</td>\n",
       "      <td>-0.269713</td>\n",
       "      <td>-0.181402</td>\n",
       "    </tr>\n",
       "    <tr>\n",
       "      <td>4</td>\n",
       "      <td>-0.956528</td>\n",
       "      <td>-0.314499</td>\n",
       "      <td>-0.473260</td>\n",
       "      <td>-0.509247</td>\n",
       "      <td>-0.563383</td>\n",
       "      <td>-0.170839</td>\n",
       "    </tr>\n",
       "  </tbody>\n",
       "</table>\n",
       "</div>"
      ],
      "text/plain": [
       "         10        20        30        45        60        90\n",
       "0 -0.739640 -0.938866 -1.666025 -0.767665 -1.028049 -0.548723\n",
       "1 -0.048194 -0.738372 -1.649465 -0.529989 -0.741505 -0.295997\n",
       "2 -0.950774 -0.309740 -0.688444 -0.215252 -0.541053 -0.371601\n",
       "3 -0.194746  0.080610 -0.889706 -0.075011 -0.269713 -0.181402\n",
       "4 -0.956528 -0.314499 -0.473260 -0.509247 -0.563383 -0.170839"
      ]
     },
     "execution_count": 213,
     "metadata": {},
     "output_type": "execute_result"
    }
   ],
   "source": [
    "dfgse3406.head()"
   ]
  },
  {
   "cell_type": "code",
   "execution_count": 214,
   "metadata": {},
   "outputs": [
    {
     "ename": "AttributeError",
     "evalue": "'DataFrame' object has no attribute 'target'",
     "output_type": "error",
     "traceback": [
      "\u001b[1;31m---------------------------------------------------------------------------\u001b[0m",
      "\u001b[1;31mAttributeError\u001b[0m                            Traceback (most recent call last)",
      "\u001b[1;32m<ipython-input-214-1b2b7d23f962>\u001b[0m in \u001b[0;36m<module>\u001b[1;34m\u001b[0m\n\u001b[0;32m      1\u001b[0m \u001b[0mdfgse3406\u001b[0m\u001b[1;33m.\u001b[0m\u001b[0mdropna\u001b[0m\u001b[1;33m(\u001b[0m\u001b[0minplace\u001b[0m\u001b[1;33m=\u001b[0m\u001b[1;32mTrue\u001b[0m\u001b[1;33m)\u001b[0m\u001b[1;33m\u001b[0m\u001b[1;33m\u001b[0m\u001b[0m\n\u001b[1;32m----> 2\u001b[1;33m \u001b[0mtarget\u001b[0m\u001b[1;33m=\u001b[0m\u001b[0mdfgse3406\u001b[0m\u001b[1;33m.\u001b[0m\u001b[0mtarget\u001b[0m\u001b[1;33m\u001b[0m\u001b[1;33m\u001b[0m\u001b[0m\n\u001b[0m\u001b[0;32m      3\u001b[0m \u001b[0mdfgse3406\u001b[0m\u001b[1;33m.\u001b[0m\u001b[0mdrop\u001b[0m\u001b[1;33m(\u001b[0m\u001b[1;34m\"target\"\u001b[0m\u001b[1;33m,\u001b[0m\u001b[0maxis\u001b[0m\u001b[1;33m=\u001b[0m\u001b[1;36m1\u001b[0m\u001b[1;33m,\u001b[0m\u001b[0minplace\u001b[0m\u001b[1;33m=\u001b[0m\u001b[1;32mTrue\u001b[0m\u001b[1;33m)\u001b[0m\u001b[1;33m\u001b[0m\u001b[1;33m\u001b[0m\u001b[0m\n",
      "\u001b[1;32m~\\Anaconda3\\lib\\site-packages\\pandas\\core\\generic.py\u001b[0m in \u001b[0;36m__getattr__\u001b[1;34m(self, name)\u001b[0m\n\u001b[0;32m   5177\u001b[0m             \u001b[1;32mif\u001b[0m \u001b[0mself\u001b[0m\u001b[1;33m.\u001b[0m\u001b[0m_info_axis\u001b[0m\u001b[1;33m.\u001b[0m\u001b[0m_can_hold_identifiers_and_holds_name\u001b[0m\u001b[1;33m(\u001b[0m\u001b[0mname\u001b[0m\u001b[1;33m)\u001b[0m\u001b[1;33m:\u001b[0m\u001b[1;33m\u001b[0m\u001b[1;33m\u001b[0m\u001b[0m\n\u001b[0;32m   5178\u001b[0m                 \u001b[1;32mreturn\u001b[0m \u001b[0mself\u001b[0m\u001b[1;33m[\u001b[0m\u001b[0mname\u001b[0m\u001b[1;33m]\u001b[0m\u001b[1;33m\u001b[0m\u001b[1;33m\u001b[0m\u001b[0m\n\u001b[1;32m-> 5179\u001b[1;33m             \u001b[1;32mreturn\u001b[0m \u001b[0mobject\u001b[0m\u001b[1;33m.\u001b[0m\u001b[0m__getattribute__\u001b[0m\u001b[1;33m(\u001b[0m\u001b[0mself\u001b[0m\u001b[1;33m,\u001b[0m \u001b[0mname\u001b[0m\u001b[1;33m)\u001b[0m\u001b[1;33m\u001b[0m\u001b[1;33m\u001b[0m\u001b[0m\n\u001b[0m\u001b[0;32m   5180\u001b[0m \u001b[1;33m\u001b[0m\u001b[0m\n\u001b[0;32m   5181\u001b[0m     \u001b[1;32mdef\u001b[0m \u001b[0m__setattr__\u001b[0m\u001b[1;33m(\u001b[0m\u001b[0mself\u001b[0m\u001b[1;33m,\u001b[0m \u001b[0mname\u001b[0m\u001b[1;33m,\u001b[0m \u001b[0mvalue\u001b[0m\u001b[1;33m)\u001b[0m\u001b[1;33m:\u001b[0m\u001b[1;33m\u001b[0m\u001b[1;33m\u001b[0m\u001b[0m\n",
      "\u001b[1;31mAttributeError\u001b[0m: 'DataFrame' object has no attribute 'target'"
     ]
    }
   ],
   "source": [
    "dfgse3406.dropna(inplace=True)\n",
    "target=dfgse3406.target\n",
    "dfgse3406.drop(\"target\",axis=1,inplace=True)"
   ]
  },
  {
   "cell_type": "code",
   "execution_count": 215,
   "metadata": {},
   "outputs": [
    {
     "name": "stderr",
     "output_type": "stream",
     "text": [
      "C:\\Users\\ABHISHEK PAUL\\Anaconda3\\lib\\site-packages\\sklearn\\svm\\base.py:193: FutureWarning: The default value of gamma will change from 'auto' to 'scale' in version 0.22 to account better for unscaled features. Set gamma explicitly to 'auto' or 'scale' to avoid this warning.\n",
      "  \"avoid this warning.\", FutureWarning)\n"
     ]
    },
    {
     "name": "stdout",
     "output_type": "stream",
     "text": [
      "0.43558282208588955\n",
      "0.43558282208588955\n"
     ]
    }
   ],
   "source": [
    "onecolmissclassificationaccuracyexalternate(dfgse3406,4,5,target)"
   ]
  },
  {
   "cell_type": "code",
   "execution_count": null,
   "metadata": {},
   "outputs": [],
   "source": []
  },
  {
   "cell_type": "code",
   "execution_count": 208,
   "metadata": {},
   "outputs": [],
   "source": [
    "def onecolmissclassificationaccuracyexalternate(df1,cols,columnindex,target):\n",
    "    from sklearn.svm import SVC;\n",
    "    from sklearn.metrics import f1_score\n",
    "    from sklearn.metrics import accuracy_score\n",
    "    ex,l1=extrapolate1col(df1,cols,columnindex)\n",
    "    column=df1.columns[columnindex-1];\n",
    "    from sklearn.model_selection import train_test_split\n",
    "    predcol=l1\n",
    "    df1[column]=predcol\n",
    "    Xtrain,Xtest,Ytrain,Ytest=train_test_split(df1,target,test_size=0.2)\n",
    "    clf =SVC();\n",
    "    clf.fit(Xtrain,Ytrain)\n",
    "    predicted=clf.predict(Xtest)\n",
    "    #accuracy after predicted column inserted to the dataset\n",
    "    print(accuracy_score(Ytest,predicted))\n",
    "    print(f1_score(Ytest,predicted,average=\"micro\"))"
   ]
  },
  {
   "cell_type": "code",
   "execution_count": 200,
   "metadata": {},
   "outputs": [
    {
     "name": "stdout",
     "output_type": "stream",
     "text": [
      "0.5\n",
      "0.5\n"
     ]
    },
    {
     "name": "stderr",
     "output_type": "stream",
     "text": [
      "C:\\Users\\ABHISHEK PAUL\\Anaconda3\\lib\\site-packages\\sklearn\\neural_network\\multilayer_perceptron.py:566: ConvergenceWarning: Stochastic Optimizer: Maximum iterations (200) reached and the optimization hasn't converged yet.\n",
      "  % self.max_iter, ConvergenceWarning)\n",
      "C:\\Users\\ABHISHEK PAUL\\Anaconda3\\lib\\site-packages\\sklearn\\preprocessing\\label.py:749: DeprecationWarning: `np.int` is a deprecated alias for the builtin `int`. To silence this warning, use `int` by itself. Doing this will not modify any behavior and is safe. When replacing `np.int`, you may wish to use e.g. `np.int64` or `np.int32` to specify the precision. If you wish to review your current use, check the release note link for additional information.\n",
      "Deprecated in NumPy 1.20; for more details and guidance: https://numpy.org/devdocs/release/1.20.0-notes.html#deprecations\n",
      "  y = np.array(y > threshold, dtype=np.int)\n"
     ]
    }
   ],
   "source": [
    "onecolmissclassificationaccuracyexalternate(dfpatfinal,4,5,target)"
   ]
  },
  {
   "cell_type": "code",
   "execution_count": 90,
   "metadata": {},
   "outputs": [],
   "source": [
    "from sklearn.linear_model import LogisticRegression"
   ]
  },
  {
   "cell_type": "code",
   "execution_count": null,
   "metadata": {},
   "outputs": [],
   "source": []
  }
 ],
 "metadata": {
  "kernelspec": {
   "display_name": "Python 3",
   "language": "python",
   "name": "python3"
  },
  "language_info": {
   "codemirror_mode": {
    "name": "ipython",
    "version": 3
   },
   "file_extension": ".py",
   "mimetype": "text/x-python",
   "name": "python",
   "nbconvert_exporter": "python",
   "pygments_lexer": "ipython3",
   "version": "3.7.4"
  }
 },
 "nbformat": 4,
 "nbformat_minor": 2
}
